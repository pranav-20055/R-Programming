{
  "nbformat": 4,
  "nbformat_minor": 0,
  "metadata": {
    "colab": {
      "provenance": [],
      "authorship_tag": "ABX9TyNPoVB0b66oCaAgW+VEBe6U"
    },
    "kernelspec": {
      "name": "ir",
      "display_name": "R"
    },
    "language_info": {
      "name": "R"
    }
  },
  "cells": [
    {
      "cell_type": "code",
      "execution_count": 22,
      "metadata": {
        "colab": {
          "base_uri": "https://localhost:8080/"
        },
        "id": "Vf4ALFYN6wlX",
        "outputId": "011bc729-3bc6-4031-9297-f537611ccd11"
      },
      "outputs": [
        {
          "output_type": "stream",
          "name": "stdout",
          "text": [
            "[1] \"Sequence of numbers from 20 to 50:\"\n",
            " [1] 20 21 22 23 24 25 26 27 28 29 30 31 32 33 34 35 36 37 38 39 40 41 42 43 44\n",
            "[26] 45 46 47 48 49 50\n",
            "[1] \"Mean of numbers from 20 to 60:\"\n",
            "[1] 40\n",
            "[1] \"Sum of numbers from 51 to 91:\"\n",
            "[1] 2911\n"
          ]
        }
      ],
      "source": [
        "print(\"Sequence of numbers from 20 to 50:\")\n",
        "print(seq(20,50))\n",
        "print(\"Mean of numbers from 20 to 60:\")\n",
        "print(mean(20:60))\n",
        "print(\"Sum of numbers from 51 to 91:\")\n",
        "print(sum(51:91))\n"
      ]
    }
  ]
}