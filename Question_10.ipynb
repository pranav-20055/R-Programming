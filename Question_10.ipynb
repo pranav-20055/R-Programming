{
  "nbformat": 4,
  "nbformat_minor": 0,
  "metadata": {
    "colab": {
      "provenance": [],
      "authorship_tag": "ABX9TyNkzLjUo8zzXxtlq+/dNiPi"
    },
    "kernelspec": {
      "name": "ir",
      "display_name": "R"
    },
    "language_info": {
      "name": "R"
    }
  },
  "cells": [
    {
      "cell_type": "code",
      "execution_count": 11,
      "metadata": {
        "colab": {
          "base_uri": "https://localhost:8080/"
        },
        "id": "Vf4ALFYN6wlX",
        "outputId": "503bc858-5073-41f7-9a85-e8e458e63af1"
      },
      "outputs": [
        {
          "output_type": "stream",
          "name": "stdout",
          "text": [
            "[1] \"Original vector:\"\n",
            "[1] 10 20 30 40 50 60\n",
            "[1] \"Maximum value of the said vector: 60\"\n",
            "[1] \"Minimum value of the said vector: 10\"\n"
          ]
        }
      ],
      "source": [
        "nums = c(10, 20, 30, 40, 50, 60)\n",
        "print('Original vector:')\n",
        "print(nums)\n",
        "print(paste(\"Maximum value of the said vector:\",max(nums)))\n",
        "print(paste(\"Minimum value of the said vector:\",min(nums)))\n"
      ]
    }
  ]
}