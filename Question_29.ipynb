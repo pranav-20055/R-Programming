{
  "nbformat": 4,
  "nbformat_minor": 0,
  "metadata": {
    "colab": {
      "provenance": [],
      "authorship_tag": "ABX9TyObr/MPj6ZrVjFJCAjLZ37k"
    },
    "kernelspec": {
      "name": "ir",
      "display_name": "R"
    },
    "language_info": {
      "name": "R"
    }
  },
  "cells": [
    {
      "cell_type": "code",
      "execution_count": 39,
      "metadata": {
        "colab": {
          "base_uri": "https://localhost:8080/",
          "height": 1000
        },
        "id": "Vf4ALFYN6wlX",
        "outputId": "1e8befad-b61c-4cc8-d898-d5ed0c6ea757"
      },
      "outputs": [
        {
          "output_type": "display_data",
          "data": {
            "text/html": [
              "<style>\n",
              ".list-inline {list-style: none; margin:0; padding: 0}\n",
              ".list-inline>li {display: inline-block}\n",
              ".list-inline>li:not(:last-child)::after {content: \"\\00b7\"; padding: 0 .5ex}\n",
              "</style>\n",
              "<ol class=list-inline><li>150</li><li>5</li></ol>\n"
            ],
            "text/markdown": "1. 150\n2. 5\n\n\n",
            "text/latex": "\\begin{enumerate*}\n\\item 150\n\\item 5\n\\end{enumerate*}\n",
            "text/plain": [
              "[1] 150   5"
            ]
          },
          "metadata": {}
        },
        {
          "output_type": "stream",
          "name": "stdout",
          "text": [
            "'data.frame':\t150 obs. of  5 variables:\n",
            " $ Sepal.Length: num  5.1 4.9 4.7 4.6 5 5.4 4.6 5 4.4 4.9 ...\n",
            " $ Sepal.Width : num  3.5 3 3.2 3.1 3.6 3.9 3.4 3.4 2.9 3.1 ...\n",
            " $ Petal.Length: num  1.4 1.4 1.3 1.5 1.4 1.7 1.4 1.5 1.4 1.5 ...\n",
            " $ Petal.Width : num  0.2 0.2 0.2 0.2 0.2 0.4 0.3 0.2 0.2 0.1 ...\n",
            " $ Species     : Factor w/ 3 levels \"setosa\",\"versicolor\",..: 1 1 1 1 1 1 1 1 1 1 ...\n"
          ]
        },
        {
          "output_type": "display_data",
          "data": {
            "text/plain": [
              "  Sepal.Length    Sepal.Width     Petal.Length    Petal.Width   \n",
              " Min.   :4.300   Min.   :2.000   Min.   :1.000   Min.   :0.100  \n",
              " 1st Qu.:5.100   1st Qu.:2.800   1st Qu.:1.600   1st Qu.:0.300  \n",
              " Median :5.800   Median :3.000   Median :4.350   Median :1.300  \n",
              " Mean   :5.843   Mean   :3.057   Mean   :3.758   Mean   :1.199  \n",
              " 3rd Qu.:6.400   3rd Qu.:3.300   3rd Qu.:5.100   3rd Qu.:1.800  \n",
              " Max.   :7.900   Max.   :4.400   Max.   :6.900   Max.   :2.500  \n",
              "       Species  \n",
              " setosa    :50  \n",
              " versicolor:50  \n",
              " virginica :50  \n",
              "                \n",
              "                \n",
              "                "
            ]
          },
          "metadata": {}
        },
        {
          "output_type": "display_data",
          "data": {
            "text/html": [
              "<style>\n",
              ".dl-inline {width: auto; margin:0; padding: 0}\n",
              ".dl-inline>dt, .dl-inline>dd {float: none; width: auto; display: inline-block}\n",
              ".dl-inline>dt::after {content: \":\\0020\"; padding-right: .5ex}\n",
              ".dl-inline>dt:not(:first-of-type) {padding-left: .5ex}\n",
              "</style><dl class=dl-inline><dt>Sepal.Length</dt><dd>0.828066127977863</dd><dt>Sepal.Width</dt><dd>0.435866284936698</dd><dt>Petal.Length</dt><dd>1.76529823325947</dd><dt>Petal.Width</dt><dd>0.762237668960347</dd></dl>\n"
            ],
            "text/markdown": "Sepal.Length\n:   0.828066127977863Sepal.Width\n:   0.435866284936698Petal.Length\n:   1.76529823325947Petal.Width\n:   0.762237668960347\n\n",
            "text/latex": "\\begin{description*}\n\\item[Sepal.Length] 0.828066127977863\n\\item[Sepal.Width] 0.435866284936698\n\\item[Petal.Length] 1.76529823325947\n\\item[Petal.Width] 0.762237668960347\n\\end{description*}\n",
            "text/plain": [
              "Sepal.Length  Sepal.Width Petal.Length  Petal.Width \n",
              "   0.8280661    0.4358663    1.7652982    0.7622377 "
            ]
          },
          "metadata": {}
        },
        {
          "output_type": "display_data",
          "data": {
            "text/html": [
              "<table class=\"dataframe\">\n",
              "<caption>A matrix: 8 × 3 of type dbl</caption>\n",
              "<thead>\n",
              "\t<tr><th scope=col>setosa</th><th scope=col>versicolor</th><th scope=col>virginica</th></tr>\n",
              "</thead>\n",
              "<tbody>\n",
              "\t<tr><td>5.0060000</td><td>5.9360000</td><td>6.5880000</td></tr>\n",
              "\t<tr><td>3.4280000</td><td>2.7700000</td><td>2.9740000</td></tr>\n",
              "\t<tr><td>1.4620000</td><td>4.2600000</td><td>5.5520000</td></tr>\n",
              "\t<tr><td>0.2460000</td><td>1.3260000</td><td>2.0260000</td></tr>\n",
              "\t<tr><td>0.3524897</td><td>0.5161711</td><td>0.6358796</td></tr>\n",
              "\t<tr><td>0.3790644</td><td>0.3137983</td><td>0.3224966</td></tr>\n",
              "\t<tr><td>0.1736640</td><td>0.4699110</td><td>0.5518947</td></tr>\n",
              "\t<tr><td>0.1053856</td><td>0.1977527</td><td>0.2746501</td></tr>\n",
              "</tbody>\n",
              "</table>\n"
            ],
            "text/markdown": "\nA matrix: 8 × 3 of type dbl\n\n| setosa | versicolor | virginica |\n|---|---|---|\n| 5.0060000 | 5.9360000 | 6.5880000 |\n| 3.4280000 | 2.7700000 | 2.9740000 |\n| 1.4620000 | 4.2600000 | 5.5520000 |\n| 0.2460000 | 1.3260000 | 2.0260000 |\n| 0.3524897 | 0.5161711 | 0.6358796 |\n| 0.3790644 | 0.3137983 | 0.3224966 |\n| 0.1736640 | 0.4699110 | 0.5518947 |\n| 0.1053856 | 0.1977527 | 0.2746501 |\n\n",
            "text/latex": "A matrix: 8 × 3 of type dbl\n\\begin{tabular}{lll}\n setosa & versicolor & virginica\\\\\n\\hline\n\t 5.0060000 & 5.9360000 & 6.5880000\\\\\n\t 3.4280000 & 2.7700000 & 2.9740000\\\\\n\t 1.4620000 & 4.2600000 & 5.5520000\\\\\n\t 0.2460000 & 1.3260000 & 2.0260000\\\\\n\t 0.3524897 & 0.5161711 & 0.6358796\\\\\n\t 0.3790644 & 0.3137983 & 0.3224966\\\\\n\t 0.1736640 & 0.4699110 & 0.5518947\\\\\n\t 0.1053856 & 0.1977527 & 0.2746501\\\\\n\\end{tabular}\n",
            "text/plain": [
              "     setosa    versicolor virginica\n",
              "[1,] 5.0060000 5.9360000  6.5880000\n",
              "[2,] 3.4280000 2.7700000  2.9740000\n",
              "[3,] 1.4620000 4.2600000  5.5520000\n",
              "[4,] 0.2460000 1.3260000  2.0260000\n",
              "[5,] 0.3524897 0.5161711  0.6358796\n",
              "[6,] 0.3790644 0.3137983  0.3224966\n",
              "[7,] 0.1736640 0.4699110  0.5518947\n",
              "[8,] 0.1053856 0.1977527  0.2746501"
            ]
          },
          "metadata": {}
        },
        {
          "output_type": "display_data",
          "data": {
            "text/html": [
              "<style>\n",
              ".dl-inline {width: auto; margin:0; padding: 0}\n",
              ".dl-inline>dt, .dl-inline>dd {float: none; width: auto; display: inline-block}\n",
              ".dl-inline>dt::after {content: \":\\0020\"; padding-right: .5ex}\n",
              ".dl-inline>dt:not(:first-of-type) {padding-left: .5ex}\n",
              "</style><dl class=dl-inline><dt>0%</dt><dd>2</dd><dt>25%</dt><dd>2.8</dd><dt>50%</dt><dd>3</dd><dt>75%</dt><dd>3.3</dd><dt>100%</dt><dd>4.4</dd></dl>\n"
            ],
            "text/markdown": "0%\n:   225%\n:   2.850%\n:   375%\n:   3.3100%\n:   4.4\n\n",
            "text/latex": "\\begin{description*}\n\\item[0\\textbackslash{}\\%] 2\n\\item[25\\textbackslash{}\\%] 2.8\n\\item[50\\textbackslash{}\\%] 3\n\\item[75\\textbackslash{}\\%] 3.3\n\\item[100\\textbackslash{}\\%] 4.4\n\\end{description*}\n",
            "text/plain": [
              "  0%  25%  50%  75% 100% \n",
              " 2.0  2.8  3.0  3.3  4.4 "
            ]
          },
          "metadata": {}
        },
        {
          "output_type": "display_data",
          "data": {
            "text/html": [
              "<style>\n",
              ".dl-inline {width: auto; margin:0; padding: 0}\n",
              ".dl-inline>dt, .dl-inline>dd {float: none; width: auto; display: inline-block}\n",
              ".dl-inline>dt::after {content: \":\\0020\"; padding-right: .5ex}\n",
              ".dl-inline>dt:not(:first-of-type) {padding-left: .5ex}\n",
              "</style><dl class=dl-inline><dt>0%</dt><dd>4.3</dd><dt>25%</dt><dd>5.1</dd><dt>50%</dt><dd>5.8</dd><dt>75%</dt><dd>6.4</dd><dt>100%</dt><dd>7.9</dd></dl>\n"
            ],
            "text/markdown": "0%\n:   4.325%\n:   5.150%\n:   5.875%\n:   6.4100%\n:   7.9\n\n",
            "text/latex": "\\begin{description*}\n\\item[0\\textbackslash{}\\%] 4.3\n\\item[25\\textbackslash{}\\%] 5.1\n\\item[50\\textbackslash{}\\%] 5.8\n\\item[75\\textbackslash{}\\%] 6.4\n\\item[100\\textbackslash{}\\%] 7.9\n\\end{description*}\n",
            "text/plain": [
              "  0%  25%  50%  75% 100% \n",
              " 4.3  5.1  5.8  6.4  7.9 "
            ]
          },
          "metadata": {}
        },
        {
          "output_type": "display_data",
          "data": {
            "text/html": [
              "<table class=\"dataframe\">\n",
              "<caption>A data.frame: 6 × 6</caption>\n",
              "<thead>\n",
              "\t<tr><th></th><th scope=col>Sepal.Length</th><th scope=col>Sepal.Width</th><th scope=col>Petal.Length</th><th scope=col>Petal.Width</th><th scope=col>Species</th><th scope=col>Sepal.Length.Cate</th></tr>\n",
              "\t<tr><th></th><th scope=col>&lt;dbl&gt;</th><th scope=col>&lt;dbl&gt;</th><th scope=col>&lt;dbl&gt;</th><th scope=col>&lt;dbl&gt;</th><th scope=col>&lt;fct&gt;</th><th scope=col>&lt;fct&gt;</th></tr>\n",
              "</thead>\n",
              "<tbody>\n",
              "\t<tr><th scope=row>1</th><td>5.1</td><td>3.5</td><td>1.4</td><td>0.2</td><td>setosa</td><td>Q1</td></tr>\n",
              "\t<tr><th scope=row>2</th><td>4.9</td><td>3.0</td><td>1.4</td><td>0.2</td><td>setosa</td><td>Q1</td></tr>\n",
              "\t<tr><th scope=row>3</th><td>4.7</td><td>3.2</td><td>1.3</td><td>0.2</td><td>setosa</td><td>Q1</td></tr>\n",
              "\t<tr><th scope=row>4</th><td>4.6</td><td>3.1</td><td>1.5</td><td>0.2</td><td>setosa</td><td>Q1</td></tr>\n",
              "\t<tr><th scope=row>5</th><td>5.0</td><td>3.6</td><td>1.4</td><td>0.2</td><td>setosa</td><td>Q1</td></tr>\n",
              "\t<tr><th scope=row>6</th><td>5.4</td><td>3.9</td><td>1.7</td><td>0.4</td><td>setosa</td><td>Q2</td></tr>\n",
              "</tbody>\n",
              "</table>\n"
            ],
            "text/markdown": "\nA data.frame: 6 × 6\n\n| <!--/--> | Sepal.Length &lt;dbl&gt; | Sepal.Width &lt;dbl&gt; | Petal.Length &lt;dbl&gt; | Petal.Width &lt;dbl&gt; | Species &lt;fct&gt; | Sepal.Length.Cate &lt;fct&gt; |\n|---|---|---|---|---|---|---|\n| 1 | 5.1 | 3.5 | 1.4 | 0.2 | setosa | Q1 |\n| 2 | 4.9 | 3.0 | 1.4 | 0.2 | setosa | Q1 |\n| 3 | 4.7 | 3.2 | 1.3 | 0.2 | setosa | Q1 |\n| 4 | 4.6 | 3.1 | 1.5 | 0.2 | setosa | Q1 |\n| 5 | 5.0 | 3.6 | 1.4 | 0.2 | setosa | Q1 |\n| 6 | 5.4 | 3.9 | 1.7 | 0.4 | setosa | Q2 |\n\n",
            "text/latex": "A data.frame: 6 × 6\n\\begin{tabular}{r|llllll}\n  & Sepal.Length & Sepal.Width & Petal.Length & Petal.Width & Species & Sepal.Length.Cate\\\\\n  & <dbl> & <dbl> & <dbl> & <dbl> & <fct> & <fct>\\\\\n\\hline\n\t1 & 5.1 & 3.5 & 1.4 & 0.2 & setosa & Q1\\\\\n\t2 & 4.9 & 3.0 & 1.4 & 0.2 & setosa & Q1\\\\\n\t3 & 4.7 & 3.2 & 1.3 & 0.2 & setosa & Q1\\\\\n\t4 & 4.6 & 3.1 & 1.5 & 0.2 & setosa & Q1\\\\\n\t5 & 5.0 & 3.6 & 1.4 & 0.2 & setosa & Q1\\\\\n\t6 & 5.4 & 3.9 & 1.7 & 0.4 & setosa & Q2\\\\\n\\end{tabular}\n",
            "text/plain": [
              "  Sepal.Length Sepal.Width Petal.Length Petal.Width Species Sepal.Length.Cate\n",
              "1 5.1          3.5         1.4          0.2         setosa  Q1               \n",
              "2 4.9          3.0         1.4          0.2         setosa  Q1               \n",
              "3 4.7          3.2         1.3          0.2         setosa  Q1               \n",
              "4 4.6          3.1         1.5          0.2         setosa  Q1               \n",
              "5 5.0          3.6         1.4          0.2         setosa  Q1               \n",
              "6 5.4          3.9         1.7          0.4         setosa  Q2               "
            ]
          },
          "metadata": {}
        },
        {
          "output_type": "stream",
          "name": "stderr",
          "text": [
            "\u001b[1m\u001b[22m`summarise()` has grouped output by 'Species'. You can override using the\n",
            "`.groups` argument.\n"
          ]
        },
        {
          "output_type": "stream",
          "name": "stdout",
          "text": [
            "\u001b[90m# A tibble: 11 × 6\u001b[39m\n",
            "\u001b[90m# Groups:   Species [3]\u001b[39m\n",
            "   Species   Sepal.Length.Cate avg_sepal_length avg_sepal_width avg_petal_length\n",
            "   \u001b[3m\u001b[90m<fct>\u001b[39m\u001b[23m     \u001b[3m\u001b[90m<fct>\u001b[39m\u001b[23m                        \u001b[3m\u001b[90m<dbl>\u001b[39m\u001b[23m           \u001b[3m\u001b[90m<dbl>\u001b[39m\u001b[23m            \u001b[3m\u001b[90m<dbl>\u001b[39m\u001b[23m\n",
            "\u001b[90m 1\u001b[39m setosa    Q1                            4.85            3.3              1.47\n",
            "\u001b[90m 2\u001b[39m setosa    Q2                            5.44            3.78             1.48\n",
            "\u001b[90m 3\u001b[39m setosa    \u001b[31mNA\u001b[39m                            4.3             3                1.1 \n",
            "\u001b[90m 4\u001b[39m versicol… Q1                            5               2.3              3.28\n",
            "\u001b[90m 5\u001b[39m versicol… Q2                            5.6             2.70             4.06\n",
            "\u001b[90m 6\u001b[39m versicol… Q3                            6.14            2.84             4.51\n",
            "\u001b[90m 7\u001b[39m versicol… Q4                            6.72            3                4.68\n",
            "\u001b[90m 8\u001b[39m virginica Q1                            4.9             2.5              4.5 \n",
            "\u001b[90m 9\u001b[39m virginica Q2                            5.74            2.7              5.04\n",
            "\u001b[90m10\u001b[39m virginica Q3                            6.24            2.9              5.28\n",
            "\u001b[90m11\u001b[39m virginica Q4                            7.06            3.10             5.88\n",
            "\u001b[90m# ℹ 1 more variable: avg_petal_width <dbl>\u001b[39m\n"
          ]
        },
        {
          "output_type": "stream",
          "name": "stderr",
          "text": [
            "\u001b[1m\u001b[22m`summarise()` has grouped output by 'Species'. You can override using the\n",
            "`.groups` argument.\n"
          ]
        },
        {
          "output_type": "stream",
          "name": "stdout",
          "text": [
            "\u001b[90m# A tibble: 11 × 3\u001b[39m\n",
            "\u001b[90m# Groups:   Species [3]\u001b[39m\n",
            "   Species    Sepal.Length.Cate avg_mean\n",
            "   \u001b[3m\u001b[90m<fct>\u001b[39m\u001b[23m      \u001b[3m\u001b[90m<fct>\u001b[39m\u001b[23m                \u001b[3m\u001b[90m<dbl>\u001b[39m\u001b[23m\n",
            "\u001b[90m 1\u001b[39m setosa     Q1                    2.47\n",
            "\u001b[90m 2\u001b[39m setosa     Q2                    2.74\n",
            "\u001b[90m 3\u001b[39m setosa     \u001b[31mNA\u001b[39m                    2.12\n",
            "\u001b[90m 4\u001b[39m versicolor Q1                    2.9 \n",
            "\u001b[90m 5\u001b[39m versicolor Q2                    3.4 \n",
            "\u001b[90m 6\u001b[39m versicolor Q3                    3.73\n",
            "\u001b[90m 7\u001b[39m versicolor Q4                    3.96\n",
            "\u001b[90m 8\u001b[39m virginica  Q1                    3.4 \n",
            "\u001b[90m 9\u001b[39m virginica  Q2                    3.88\n",
            "\u001b[90m10\u001b[39m virginica  Q3                    4.09\n",
            "\u001b[90m11\u001b[39m virginica  Q4                    4.53\n"
          ]
        },
        {
          "output_type": "stream",
          "name": "stderr",
          "text": [
            "\u001b[1m\u001b[22m`summarise()` has grouped output by 'Species'. You can override using the\n",
            "`.groups` argument.\n"
          ]
        },
        {
          "output_type": "stream",
          "name": "stdout",
          "text": [
            "\u001b[90m# A tibble: 3 × 6\u001b[39m\n",
            "\u001b[90m# Groups:   Species [3]\u001b[39m\n",
            "  Species       Q1    Q2    Q3    Q4 `<NA>`\n",
            "  \u001b[3m\u001b[90m<fct>\u001b[39m\u001b[23m      \u001b[3m\u001b[90m<dbl>\u001b[39m\u001b[23m \u001b[3m\u001b[90m<dbl>\u001b[39m\u001b[23m \u001b[3m\u001b[90m<dbl>\u001b[39m\u001b[23m \u001b[3m\u001b[90m<dbl>\u001b[39m\u001b[23m  \u001b[3m\u001b[90m<dbl>\u001b[39m\u001b[23m\n",
            "\u001b[90m1\u001b[39m setosa        35    14     0     0      1\n",
            "\u001b[90m2\u001b[39m versicolor     4    20    17     9      0\n",
            "\u001b[90m3\u001b[39m virginica      1     5    18    26      0\n"
          ]
        }
      ],
      "source": [
        "#1)\n",
        "# Load the built-in dataset iris\n",
        "library(tidyverse)\n",
        "data(iris)\n",
        "\n",
        "# Find the dimension of the dataset\n",
        "dim(iris)  # Output: 150 5\n",
        "\n",
        "# Check the structure of the dataset\n",
        "str(iris)  # Output: data frame with 150 observations and 5 variables\n",
        "\n",
        "# Summary statistics of all features\n",
        "summary(iris)  # Output: summary statistics for each feature\n",
        "\n",
        "# Standard deviation of all features\n",
        "sapply(iris[, 1:4], sd)  # Output: standard deviation for each feature\n",
        "\n",
        "#2)\n",
        "# Load the built-in dataset iris\n",
        "data(iris)\n",
        "\n",
        "# Split the dataset by Species\n",
        "iris_split <- split(iris, iris$Species)\n",
        "\n",
        "# Calculate mean and standard deviation for each group\n",
        "sapply(iris_split, function(x) {\n",
        "  group_mean <- sapply(x[, 1:4], mean)\n",
        "  group_sd <- sapply(x[, 1:4], sd)\n",
        "  return(cbind(group_mean, group_sd))\n",
        "})\n",
        "\n",
        "#3)\n",
        "# Find quantile values for sepal width\n",
        "quantile(iris$Sepal.Width)\n",
        "\n",
        "# Find quantile values for sepal length\n",
        "quantile(iris$Sepal.Length)\n",
        "\n",
        "\n",
        "#4)\n",
        "sepal_quantiles <- quantile(iris$Sepal.Length, probs = seq(0, 1, 0.25))\n",
        "\n",
        "# Create a new column 'Sepal.Length.Cate' based on quantile categories\n",
        "iris1 <- iris %>%\n",
        "  mutate(Sepal.Length.Cate = cut(Sepal.Length, breaks = sepal_quantiles, labels = c(\"Q1\", \"Q2\", \"Q3\", \"Q4\")))\n",
        "\n",
        "# Print the first few rows of iris1\n",
        "head(iris1)\n",
        "\n",
        "#5)\n",
        "avg_by_groups <- iris1 %>%\n",
        "  group_by(Species, Sepal.Length.Cate) %>%\n",
        "  summarize(\n",
        "    avg_sepal_length = mean(Sepal.Length),\n",
        "    avg_sepal_width = mean(Sepal.Width),\n",
        "    avg_petal_length = mean(Petal.Length),\n",
        "    avg_petal_width = mean(Petal.Width)\n",
        "  )\n",
        "\n",
        "print(avg_by_groups)\n",
        "\n",
        "#6)\n",
        "avg_mean_by_groups <- iris1 %>%\n",
        "  group_by(Species, Sepal.Length.Cate) %>%\n",
        "  summarize(avg_mean = mean(c(Sepal.Length, Sepal.Width, Petal.Length, Petal.Width)))\n",
        "\n",
        "print(avg_mean_by_groups)\n",
        "\n",
        "#7)\n",
        "pivot_table <- iris1 %>%\n",
        "  group_by(Species, Sepal.Length.Cate) %>%\n",
        "  summarize(count = n()) %>%\n",
        "  spread(Sepal.Length.Cate, count, fill = 0)\n",
        "\n",
        "print(pivot_table)"
      ]
    }
  ]
}