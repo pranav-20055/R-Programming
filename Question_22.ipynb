{
  "nbformat": 4,
  "nbformat_minor": 0,
  "metadata": {
    "colab": {
      "provenance": [],
      "authorship_tag": "ABX9TyMWZ7GVKNjviGpPHRWK3Q94"
    },
    "kernelspec": {
      "name": "ir",
      "display_name": "R"
    },
    "language_info": {
      "name": "R"
    }
  },
  "cells": [
    {
      "cell_type": "code",
      "execution_count": 45,
      "metadata": {
        "colab": {
          "base_uri": "https://localhost:8080/"
        },
        "id": "Vf4ALFYN6wlX",
        "outputId": "ed6dcb0c-63e2-46ee-bf31-e8bfe848c0ec"
      },
      "outputs": [
        {
          "output_type": "stream",
          "name": "stdout",
          "text": [
            "[1]  1  3  5  7  9 11 13 15 17\n"
          ]
        }
      ],
      "source": [
        "# Create three arrays\n",
        "arr1 <- array(c(1, 2, 3, 4, 5, 6), dim = c(2, 3))\n",
        "arr2 <- array(c(7, 8, 9, 10, 11, 12), dim = c(2, 3))\n",
        "arr3 <- array(c(13, 14, 15, 16, 17, 18), dim = c(2, 3))\n",
        "\n",
        "# Combine the first rows of the three arrays\n",
        "combined_rows <- c(arr1[1, ], arr2[1, ], arr3[1, ])\n",
        "\n",
        "print(combined_rows)"
      ]
    }
  ]
}