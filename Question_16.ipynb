{
  "nbformat": 4,
  "nbformat_minor": 0,
  "metadata": {
    "colab": {
      "provenance": [],
      "authorship_tag": "ABX9TyOMA/Gg7IiXgnRgLCTNjcY2"
    },
    "kernelspec": {
      "name": "ir",
      "display_name": "R"
    },
    "language_info": {
      "name": "R"
    }
  },
  "cells": [
    {
      "cell_type": "code",
      "execution_count": 57,
      "metadata": {
        "colab": {
          "base_uri": "https://localhost:8080/"
        },
        "id": "Vf4ALFYN6wlX",
        "outputId": "6b1d3eb8-732c-4839-8c0e-d95aad0ce8af"
      },
      "outputs": [
        {
          "output_type": "stream",
          "name": "stdout",
          "text": [
            "     [,1] [,2] [,3] [,4]\n",
            "[1,]    1    6   11   16\n",
            "[2,]    2    7   12   17\n",
            "[3,]    3    8   13   18\n",
            "[4,]    4    9   14   19\n",
            "[5,]    5   10   15   20\n",
            "     col1 col2 col3\n",
            "row1    1    2    3\n",
            "row2    4    5    6\n",
            "row3    7    8    9\n",
            "     col1 col2\n",
            "row1    1    3\n",
            "row2    2    4\n"
          ]
        }
      ],
      "source": [
        "# Create a 5 x 4 matrix\n",
        "mat1 <- matrix(1:20, nrow = 5, ncol = 4)\n",
        "print(mat1)\n",
        "\n",
        "# Create a 3 x 3 matrix with labels and fill by rows\n",
        "row_labels <- c(\"row1\", \"row2\", \"row3\")\n",
        "col_labels <- c(\"col1\", \"col2\", \"col3\")\n",
        "mat2 <- matrix(1:9, nrow = 3, ncol = 3, dimnames = list(row_labels, col_labels), byrow = TRUE)\n",
        "print(mat2)\n",
        "\n",
        "# Create a 2 x 2 matrix with labels and fill by columns\n",
        "row_labels <- c(\"row1\", \"row2\")\n",
        "col_labels <- c(\"col1\", \"col2\")\n",
        "mat3 <- matrix(1:4, nrow = 2, ncol = 2, dimnames = list(row_labels, col_labels), byrow = FALSE)\n",
        "print(mat3)"
      ]
    }
  ]
}