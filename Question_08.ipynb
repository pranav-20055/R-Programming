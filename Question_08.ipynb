{
  "nbformat": 4,
  "nbformat_minor": 0,
  "metadata": {
    "colab": {
      "provenance": [],
      "authorship_tag": "ABX9TyOmM9pQBeihIOk4OyjMeJcm"
    },
    "kernelspec": {
      "name": "ir",
      "display_name": "R"
    },
    "language_info": {
      "name": "R"
    }
  },
  "cells": [
    {
      "cell_type": "code",
      "execution_count": 8,
      "metadata": {
        "colab": {
          "base_uri": "https://localhost:8080/"
        },
        "id": "Vf4ALFYN6wlX",
        "outputId": "b435db3b-7f3c-4e99-cb1a-f89683ebc61b"
      },
      "outputs": [
        {
          "output_type": "stream",
          "name": "stdout",
          "text": [
            "[1] \"First 10 letters in lower case:\"\n",
            " [1] \"a\" \"b\" \"c\" \"d\" \"e\" \"f\" \"g\" \"h\" \"i\" \"j\"\n",
            "[1] \"Last 10 letters in upper case:\"\n",
            " [1] \"Q\" \"R\" \"S\" \"T\" \"U\" \"V\" \"W\" \"X\" \"Y\" \"Z\"\n",
            "[1] \"Letters between 22nd to 24th letters in upper case:\"\n",
            "[1] \"V\" \"W\" \"X\"\n"
          ]
        }
      ],
      "source": [
        "print(\"First 10 letters in lower case:\")\n",
        "t = head(letters, 10)\n",
        "print(t)\n",
        "print(\"Last 10 letters in upper case:\")\n",
        "t = tail(LETTERS, 10)\n",
        "print(t)\n",
        "print(\"Letters between 22nd to 24th letters in upper case:\")\n",
        "e = tail(LETTERS[22:24])\n",
        "print(e)\n"
      ]
    }
  ]
}