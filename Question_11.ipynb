{
  "nbformat": 4,
  "nbformat_minor": 0,
  "metadata": {
    "colab": {
      "provenance": [],
      "authorship_tag": "ABX9TyOORt28CNOimqIHbQPX/IPN"
    },
    "kernelspec": {
      "name": "ir",
      "display_name": "R"
    },
    "language_info": {
      "name": "R"
    }
  },
  "cells": [
    {
      "cell_type": "code",
      "execution_count": 13,
      "metadata": {
        "colab": {
          "base_uri": "https://localhost:8080/"
        },
        "id": "Vf4ALFYN6wlX",
        "outputId": "b5f0fb01-5b99-464d-d136-044cae2c676e"
      },
      "outputs": [
        {
          "output_type": "stream",
          "name": "stdout",
          "text": [
            "[1] \"Original vector(string)\"\n",
            "[1] \"The quick brown fox jumps over the lazy dog.\"\n",
            "[1] \"Unique elements of the said vector:\"\n",
            "[1] \"the quick brown fox jumps over the lazy dog.\"\n",
            "[1] \"Original vector(number)\"\n",
            "[1] 1 2 2 3 4 4 5 6\n",
            "[1] \"Unique elements of the said vector:\"\n",
            "[1] 1 2 3 4 5 6\n"
          ]
        }
      ],
      "source": [
        "str1 = \"The quick brown fox jumps over the lazy dog.\"\n",
        "print(\"Original vector(string)\")\n",
        "print(str1)\n",
        "print(\"Unique elements of the said vector:\")\n",
        "print(unique(tolower(str1)))\n",
        "nums = c(1, 2, 2, 3, 4, 4, 5, 6)\n",
        "print(\"Original vector(number)\")\n",
        "print(nums)\n",
        "print(\"Unique elements of the said vector:\")\n",
        "print(unique(nums))\n"
      ]
    }
  ]
}