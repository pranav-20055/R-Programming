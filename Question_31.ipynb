{
  "nbformat": 4,
  "nbformat_minor": 0,
  "metadata": {
    "colab": {
      "provenance": [],
      "authorship_tag": "ABX9TyPrHRoUKkr1YRYD7dV6WO/+"
    },
    "kernelspec": {
      "name": "ir",
      "display_name": "R"
    },
    "language_info": {
      "name": "R"
    }
  },
  "cells": [
    {
      "cell_type": "code",
      "execution_count": 21,
      "metadata": {
        "colab": {
          "base_uri": "https://localhost:8080/"
        },
        "id": "Vf4ALFYN6wlX",
        "outputId": "190e4efe-51a3-4ec5-80ce-29e7d372a3a5"
      },
      "outputs": [
        {
          "output_type": "stream",
          "name": "stdout",
          "text": [
            "Mean: 60 \n",
            "Median: 70 \n",
            "Mode: 202nd highest value: 90 \n",
            "3rd lowest value: 30"
          ]
        }
      ],
      "source": [
        "#1)\n",
        "# Given vector\n",
        "values <- c(90, 50, 70, 80, 70, 60, 20, 30, 80, 90, 20)\n",
        "\n",
        "# Calculate mean\n",
        "mean_value <- mean(values)\n",
        "cat(\"Mean:\", mean_value, \"\\n\")\n",
        "\n",
        "# Calculate median\n",
        "median_value <- median(values)\n",
        "cat(\"Median:\", median_value, \"\\n\")\n",
        "\n",
        "# Calculate mode\n",
        "mode_value <- as.numeric(names(sort(-table(values)))[1])\n",
        "cat(\"Mode:\", mode_value)\n",
        "\n",
        "#2)\n",
        "# Sort the vector in descending order\n",
        "sorted_values <- sort(values, decreasing = TRUE)\n",
        "\n",
        "# Find the 2nd highest value\n",
        "second_highest <- sorted_values[2]\n",
        "cat(\"2nd highest value:\", second_highest, \"\\n\")\n",
        "\n",
        "# Find the 3rd lowest value\n",
        "third_lowest <- sorted_values[length(sorted_values) - 2]\n",
        "cat(\"3rd lowest value:\", third_lowest)"
      ]
    }
  ]
}