{
  "nbformat": 4,
  "nbformat_minor": 0,
  "metadata": {
    "colab": {
      "provenance": [],
      "authorship_tag": "ABX9TyMIVR7xO8hI87QNPtQ+fus0"
    },
    "kernelspec": {
      "name": "ir",
      "display_name": "R"
    },
    "language_info": {
      "name": "R"
    }
  },
  "cells": [
    {
      "cell_type": "code",
      "execution_count": 35,
      "metadata": {
        "colab": {
          "base_uri": "https://localhost:8080/",
          "height": 1000
        },
        "id": "Vf4ALFYN6wlX",
        "outputId": "4db922df-2795-48e5-c131-e3aee1cb4bbb"
      },
      "outputs": [
        {
          "output_type": "stream",
          "name": "stdout",
          "text": [
            "# weights:  12 (6 variable)\n",
            "initial  value 131.833475 \n",
            "iter  10 value 10.207694\n",
            "iter  20 value 8.641476\n",
            "iter  30 value 8.623607\n",
            "iter  40 value 8.609503\n",
            "iter  50 value 8.602741\n",
            "iter  60 value 8.600893\n",
            "iter  70 value 8.596472\n",
            "iter  80 value 8.594230\n",
            "iter  90 value 8.593757\n",
            "iter 100 value 8.592407\n",
            "final  value 8.592407 \n",
            "stopped after 100 iterations\n"
          ]
        },
        {
          "output_type": "display_data",
          "data": {
            "text/plain": [
              "Confusion Matrix and Statistics\n",
              "\n",
              "            Reference\n",
              "Prediction   setosa versicolor virginica\n",
              "  setosa         10          0         0\n",
              "  versicolor      0         14         1\n",
              "  virginica       0          0         5\n",
              "\n",
              "Overall Statistics\n",
              "                                          \n",
              "               Accuracy : 0.9667          \n",
              "                 95% CI : (0.8278, 0.9992)\n",
              "    No Information Rate : 0.4667          \n",
              "    P-Value [Acc > NIR] : 4.148e-09       \n",
              "                                          \n",
              "                  Kappa : 0.9464          \n",
              "                                          \n",
              " Mcnemar's Test P-Value : NA              \n",
              "\n",
              "Statistics by Class:\n",
              "\n",
              "                     Class: setosa Class: versicolor Class: virginica\n",
              "Sensitivity                 1.0000            1.0000           0.8333\n",
              "Specificity                 1.0000            0.9375           1.0000\n",
              "Pos Pred Value              1.0000            0.9333           1.0000\n",
              "Neg Pred Value              1.0000            1.0000           0.9600\n",
              "Prevalence                  0.3333            0.4667           0.2000\n",
              "Detection Rate              0.3333            0.4667           0.1667\n",
              "Detection Prevalence        0.3333            0.5000           0.1667\n",
              "Balanced Accuracy           1.0000            0.9688           0.9167"
            ]
          },
          "metadata": {}
        },
        {
          "output_type": "display_data",
          "data": {
            "text/plain": [
              "Call:\n",
              "multinom(formula = Species ~ Petal.Width + Petal.Length, data = train_data)\n",
              "\n",
              "Coefficients:\n",
              "           (Intercept) Petal.Width Petal.Length\n",
              "versicolor   -22.80429    8.275971     6.592006\n",
              "virginica    -68.83031   18.028532    12.810971\n",
              "\n",
              "Std. Errors:\n",
              "           (Intercept) Petal.Width Petal.Length\n",
              "versicolor    48.76232    88.67881     41.02438\n",
              "virginica     51.06843    88.76846     41.11364\n",
              "\n",
              "Residual Deviance: 17.18481 \n",
              "AIC: 29.18481 "
            ]
          },
          "metadata": {}
        }
      ],
      "source": [
        "# Load the iris dataset\n",
        "data(iris)\n",
        "\n",
        "# Split the dataset into training and testing subsets\n",
        "set.seed(123)  # Set a seed for reproducibility\n",
        "train_indices <- sample(nrow(iris), 0.8 * nrow(iris))\n",
        "train_data <- iris[train_indices, ]\n",
        "test_data <- iris[-train_indices, ]\n",
        "\n",
        "# Load the nnet package\n",
        "library(nnet)\n",
        "\n",
        "# Create the multinomial logistic regression model\n",
        "model <- multinom(Species ~ Petal.Width + Petal.Length, data = train_data)\n",
        "\n",
        "# Make predictions on the test data\n",
        "test_predictions <- predict(model, newdata = test_data, type = \"prob\")\n",
        "\n",
        "# Convert predictions to factor levels\n",
        "predicted_species <- factor(levels(test_data$Species)[apply(test_predictions, 1, which.max)],\n",
        "                             levels = levels(test_data$Species))\n",
        "\n",
        "# Create a confusion matrix\n",
        "library(caret)\n",
        "confusionMatrix(test_data$Species, predicted_species)\n",
        "\n",
        "# Print the model summary\n",
        "summary(model)"
      ]
    }
  ]
}