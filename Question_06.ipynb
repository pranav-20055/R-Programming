{
  "nbformat": 4,
  "nbformat_minor": 0,
  "metadata": {
    "colab": {
      "provenance": [],
      "authorship_tag": "ABX9TyO4suSAGufAgfQX5dscBkxl"
    },
    "kernelspec": {
      "name": "ir",
      "display_name": "R"
    },
    "language_info": {
      "name": "R"
    }
  },
  "cells": [
    {
      "cell_type": "code",
      "execution_count": 6,
      "metadata": {
        "colab": {
          "base_uri": "https://localhost:8080/",
          "height": 34
        },
        "id": "Vf4ALFYN6wlX",
        "outputId": "d59c76d5-545e-444d-8029-2ab10453f5b9"
      },
      "outputs": [
        {
          "output_type": "display_data",
          "data": {
            "text/html": [
              "<style>\n",
              ".list-inline {list-style: none; margin:0; padding: 0}\n",
              ".list-inline>li {display: inline-block}\n",
              ".list-inline>li:not(:last-child)::after {content: \"\\00b7\"; padding: 0 .5ex}\n",
              "</style>\n",
              "<ol class=list-inline><li>2</li><li>3</li><li>5</li><li>7</li><li>11</li></ol>\n"
            ],
            "text/markdown": "1. 2\n2. 3\n3. 5\n4. 7\n5. 11\n\n\n",
            "text/latex": "\\begin{enumerate*}\n\\item 2\n\\item 3\n\\item 5\n\\item 7\n\\item 11\n\\end{enumerate*}\n",
            "text/plain": [
              "[1]  2  3  5  7 11"
            ]
          },
          "metadata": {}
        }
      ],
      "source": [
        "prime_numbers <- function(n) {\n",
        "  if (n >= 2) {\n",
        "    x = seq(2, n)\n",
        "    prime_nums = c()\n",
        "    for (i in seq(2, n)) {\n",
        "      if (any(x == i)) {\n",
        "        prime_nums = c(prime_nums, i)\n",
        "        x = c(x[(x %% i) != 0], i)\n",
        "      }\n",
        "    }\n",
        "    return(prime_nums)\n",
        "  }\n",
        "  else\n",
        "  {\n",
        "    stop(\"Input number should be at least 2.\")\n",
        "  }\n",
        "}\n",
        "prime_numbers(12)"
      ]
    }
  ]
}