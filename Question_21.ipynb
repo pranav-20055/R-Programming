{
  "nbformat": 4,
  "nbformat_minor": 0,
  "metadata": {
    "colab": {
      "provenance": [],
      "authorship_tag": "ABX9TyNoUnQwmywRIAbOi8D60uTu"
    },
    "kernelspec": {
      "name": "ir",
      "display_name": "R"
    },
    "language_info": {
      "name": "R"
    }
  },
  "cells": [
    {
      "cell_type": "code",
      "execution_count": 48,
      "metadata": {
        "colab": {
          "base_uri": "https://localhost:8080/"
        },
        "id": "Vf4ALFYN6wlX",
        "outputId": "bd3ec67f-abf6-4dab-ff68-4ee9f29927cb"
      },
      "outputs": [
        {
          "output_type": "stream",
          "name": "stdout",
          "text": [
            "[1] 11 14 17\n",
            "[1] 9\n"
          ]
        }
      ],
      "source": [
        "# Create two vectors\n",
        "vector1 <- c(1, 2, 3, 4, 5, 6, 7, 8, 9)\n",
        "vector2 <- c(10, 11, 12, 13, 14, 15, 16, 17, 18)\n",
        "\n",
        "# Create an array of two 3x3 matrices from the vectors\n",
        "arr <- array(c(vector1, vector2), dim = c(3, 3, 2))\n",
        "\n",
        "# Print the second row of the second matrix\n",
        "print(arr[2, , 2])\n",
        "\n",
        "# Print the element in the 3rd row and 3rd column of the 1st matrix\n",
        "print(arr[3, 3, 1])"
      ]
    }
  ]
}