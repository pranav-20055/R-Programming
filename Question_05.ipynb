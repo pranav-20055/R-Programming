{
  "nbformat": 4,
  "nbformat_minor": 0,
  "metadata": {
    "colab": {
      "provenance": [],
      "authorship_tag": "ABX9TyNctFdNrrK352KeL4bMWzEH"
    },
    "kernelspec": {
      "name": "ir",
      "display_name": "R"
    },
    "language_info": {
      "name": "R"
    }
  },
  "cells": [
    {
      "cell_type": "code",
      "execution_count": 5,
      "metadata": {
        "colab": {
          "base_uri": "https://localhost:8080/"
        },
        "id": "Vf4ALFYN6wlX",
        "outputId": "64163733-abda-433b-b5fd-a3d458ec5a94"
      },
      "outputs": [
        {
          "output_type": "stream",
          "name": "stdout",
          "text": [
            "[1] \"First 10 Fibonacci numbers:\"\n",
            " [1]  1  1  2  3  5  8 13 21 34 55\n"
          ]
        }
      ],
      "source": [
        "Fibonacci <- numeric(10)\n",
        "Fibonacci[1] <- Fibonacci[2] <- 1\n",
        "for (i in 3:10) Fibonacci[i] <- Fibonacci[i - 2] + Fibonacci[i - 1]\n",
        "print(\"First 10 Fibonacci numbers:\")\n",
        "print(Fibonacci)\n"
      ]
    }
  ]
}