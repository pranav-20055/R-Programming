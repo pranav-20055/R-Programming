{
  "nbformat": 4,
  "nbformat_minor": 0,
  "metadata": {
    "colab": {
      "provenance": [],
      "authorship_tag": "ABX9TyPA+GlMXRAVrVkiVQwoQIlV"
    },
    "kernelspec": {
      "name": "ir",
      "display_name": "R"
    },
    "language_info": {
      "name": "R"
    }
  },
  "cells": [
    {
      "cell_type": "code",
      "execution_count": 26,
      "metadata": {
        "colab": {
          "base_uri": "https://localhost:8080/"
        },
        "id": "Vf4ALFYN6wlX",
        "outputId": "e2068483-8897-4df6-ab99-0899bf23a6f8"
      },
      "outputs": [
        {
          "output_type": "stream",
          "name": "stdout",
          "text": [
            "[1] \"Original data:\"\n",
            " [1] \"C\" \"E\" \"H\" \"E\" \"N\" \"M\" \"G\" \"M\" \"X\" \"M\" \"O\" \"D\" \"Z\" \"Q\" \"E\" \"G\" \"O\" \"M\" \"X\"\n",
            "[20] \"W\" \"I\" \"U\" \"A\" \"A\" \"G\" \"H\" \"A\" \"A\" \"T\" \"Z\" \"X\" \"Q\" \"K\" \"G\" \"D\" \"E\" \"B\" \"J\"\n",
            "[39] \"L\" \"G\" \"Z\" \"M\" \"G\" \"Y\" \"W\" \"B\" \"S\" \"K\" \"N\" \"S\"\n",
            "[1] \"Original factors:\"\n",
            " [1] C E H E N M G M X M O D Z Q E G O M X W I U A A G H A A T Z X Q K G D E B J\n",
            "[39] L G Z M G Y W B S K N S\n",
            "Levels: A B C D E G H I J K L M N O Q S T U W X Y Z\n",
            "[1] \"Only five of the levels\"\n",
            "\n",
            "C E H N \n",
            "1 2 1 1 \n"
          ]
        }
      ],
      "source": [
        "L = sample(LETTERS,size=50,replace=TRUE)\n",
        "print(\"Original data:\")\n",
        "print(L)\n",
        "f = factor(L)\n",
        "print(\"Original factors:\")\n",
        "print(f)\n",
        "print(\"Only five of the levels\")\n",
        "print(table(L[1:5]))\n"
      ]
    }
  ]
}