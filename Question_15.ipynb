{
  "nbformat": 4,
  "nbformat_minor": 0,
  "metadata": {
    "colab": {
      "provenance": [],
      "authorship_tag": "ABX9TyMVDkMRKpO2wZ2DsRsmbtq9"
    },
    "kernelspec": {
      "name": "ir",
      "display_name": "R"
    },
    "language_info": {
      "name": "R"
    }
  },
  "cells": [
    {
      "cell_type": "code",
      "execution_count": 25,
      "metadata": {
        "colab": {
          "base_uri": "https://localhost:8080/"
        },
        "id": "Vf4ALFYN6wlX",
        "outputId": "e1d3ead2-931f-48fd-f31b-c7215b899392"
      },
      "outputs": [
        {
          "output_type": "stream",
          "name": "stdout",
          "text": [
            "[1]  1  2  5  3  4  0 -1 -3\n",
            "[1] \"double\"\n",
            "[1] \"Red\"   \"Green\" \"White\"\n",
            "[1] \"character\"\n",
            "[1]  TRUE  TRUE  TRUE FALSE  TRUE FALSE\n",
            "[1] \"logical\"\n"
          ]
        }
      ],
      "source": [
        "a = c(1, 2, 5, 3, 4, 0, -1, -3)\n",
        "b = c(\"Red\", \"Green\", \"White\")\n",
        "c = c(TRUE, TRUE, TRUE, FALSE, TRUE, FALSE)\n",
        "print(a)\n",
        "print(typeof(a))\n",
        "print(b)\n",
        "print(typeof(b))\n",
        "print(c)\n",
        "print(typeof(c))\n"
      ]
    }
  ]
}