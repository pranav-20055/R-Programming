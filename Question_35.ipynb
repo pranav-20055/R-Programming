{
  "nbformat": 4,
  "nbformat_minor": 0,
  "metadata": {
    "colab": {
      "provenance": [],
      "authorship_tag": "ABX9TyOiq9XpdG7clcR/4opPdh4i",
      "include_colab_link": true
    },
    "kernelspec": {
      "name": "ir",
      "display_name": "R"
    },
    "language_info": {
      "name": "R"
    }
  },
  "cells": [
    {
      "cell_type": "markdown",
      "metadata": {
        "id": "view-in-github",
        "colab_type": "text"
      },
      "source": [
        "<a href=\"https://colab.research.google.com/github/kanishqvijay/ITA0471-R-Programming/blob/main/Question_35.ipynb\" target=\"_parent\"><img src=\"https://colab.research.google.com/assets/colab-badge.svg\" alt=\"Open In Colab\"/></a>"
      ]
    },
    {
      "cell_type": "code",
      "execution_count": 17,
      "metadata": {
        "colab": {
          "base_uri": "https://localhost:8080/"
        },
        "id": "Vf4ALFYN6wlX",
        "outputId": "99b42d1d-438a-473f-85b9-a24a4c7e8f90"
      },
      "outputs": [
        {
          "output_type": "stream",
          "name": "stdout",
          "text": [
            "    weight Time Chick Diet\n",
            "577    264   20    50    4\n",
            "578    264   21    50    4\n",
            "483    269   20    42    4\n",
            "484    281   21    42    4\n",
            "553    303   20    48    4\n",
            "554    322   21    48    4\n",
            "  Chick Time Diet variable value\n",
            "1     1    0    1   weight    42\n",
            "2     1    2    1   weight    51\n",
            "3     1    4    1   weight    59\n",
            "4     1    6    1   weight    64\n",
            "5     1    8    1   weight    76\n",
            "6     1   10    1   weight    93\n",
            "  Diet   weight\n",
            "1    1 102.6455\n",
            "2    2 122.6167\n",
            "3    3 142.9500\n",
            "4    4 135.2627\n",
            "  Diet  weight\n",
            "1    1 numeric\n",
            "2    2 numeric\n",
            "3    3 numeric\n",
            "4    4 numeric\n"
          ]
        }
      ],
      "source": [
        "#1) Load the ChickWeight dataset\n",
        "data(ChickWeight)\n",
        "\n",
        "# Order the data frame by weight, grouped by diet\n",
        "ordered_data <- ChickWeight[order(ChickWeight$Diet, ChickWeight$weight), ]\n",
        "\n",
        "# Extract the last 6 records\n",
        "last_six <- tail(ordered_data, 6)\n",
        "print(last_six)\n",
        "\n",
        "#2a) Melt the data with Chick, Time, and Diet as ID variables\n",
        "melted_data <- melt(ChickWeight, id.vars = c(\"Chick\", \"Time\", \"Diet\"))\n",
        "print(head(melted_data))\n",
        "\n",
        "#2b) Cast the data to display mean weight grouped by Diet\n",
        "mean_weight_by_diet <- dcast(melted_data, Diet ~ variable, mean)\n",
        "print(mean_weight_by_diet)\n",
        "\n",
        "#2c) Cast the data to display mode of weight grouped by Diet\n",
        "mode_weight_by_diet <- dcast(melted_data, Diet ~ variable, fun.aggregate = mode)\n",
        "print(mode_weight_by_diet)"
      ]
    }
  ]
}