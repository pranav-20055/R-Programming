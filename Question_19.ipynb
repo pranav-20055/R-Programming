{
  "nbformat": 4,
  "nbformat_minor": 0,
  "metadata": {
    "colab": {
      "provenance": [],
      "authorship_tag": "ABX9TyOfwDcXJCx/lf6nJKlBOcjQ"
    },
    "kernelspec": {
      "name": "ir",
      "display_name": "R"
    },
    "language_info": {
      "name": "R"
    }
  },
  "cells": [
    {
      "cell_type": "code",
      "execution_count": 53,
      "metadata": {
        "colab": {
          "base_uri": "https://localhost:8080/"
        },
        "id": "Vf4ALFYN6wlX",
        "outputId": "119402c8-86fe-4cde-d83f-9b9eae9c76bd"
      },
      "outputs": [
        {
          "output_type": "stream",
          "name": "stdout",
          "text": [
            "[[1]]\n",
            "[1] 1 2 3 4 5\n",
            "\n",
            "[[2]]\n",
            "     [,1] [,2] [,3]\n",
            "[1,]    1    4    7\n",
            "[2,]    2    5    8\n",
            "[3,]    3    6    9\n",
            "\n",
            "[[3]]\n",
            "function(x) {\n",
            "  return(x ^ 2)\n",
            "}\n",
            "\n"
          ]
        }
      ],
      "source": [
        "# Create a vector\n",
        "vec <- c(1, 2, 3, 4, 5)\n",
        "\n",
        "# Create a matrix\n",
        "mat <- matrix(c(1, 2, 3, 4, 5, 6, 7, 8, 9), nrow = 3, ncol = 3)\n",
        "\n",
        "# Define a function\n",
        "my_function <- function(x) {\n",
        "  return(x ^ 2)\n",
        "}\n",
        "\n",
        "# Create a list\n",
        "my_list <- list(vec,mat,my_function)\n",
        "\n",
        "# Print the content of the list\n",
        "print(my_list)"
      ]
    }
  ]
}