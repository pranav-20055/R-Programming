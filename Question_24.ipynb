{
  "nbformat": 4,
  "nbformat_minor": 0,
  "metadata": {
    "colab": {
      "provenance": [],
      "authorship_tag": "ABX9TyOz3nMR0QVMCoWUHC2o9mBk"
    },
    "kernelspec": {
      "name": "ir",
      "display_name": "R"
    },
    "language_info": {
      "name": "R"
    }
  },
  "cells": [
    {
      "cell_type": "code",
      "execution_count": 47,
      "metadata": {
        "colab": {
          "base_uri": "https://localhost:8080/"
        },
        "id": "Vf4ALFYN6wlX",
        "outputId": "3308f23a-d23f-4d2a-ff14-d7d6c2e75e37"
      },
      "outputs": [
        {
          "output_type": "stream",
          "name": "stdout",
          "text": [
            "     [,1] [,2] [,3]\n",
            "[1,]   52   62   60\n",
            "[2,]   54   52   62\n",
            "[3,]   56   54   52\n",
            "[4,]   58   56   54\n",
            "[5,]   60   58   56\n"
          ]
        }
      ],
      "source": [
        "# Create a sequence of even integers greater than 50\n",
        "seq_values <- seq(52, 62, by = 2)\n",
        "\n",
        "# Create a 5x3 array from the sequence\n",
        "arr <- array(seq_values, dim = c(5, 3))\n",
        "\n",
        "print(arr)"
      ]
    }
  ]
}