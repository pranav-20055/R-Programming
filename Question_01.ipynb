{
  "nbformat": 4,
  "nbformat_minor": 0,
  "metadata": {
    "colab": {
      "provenance": [],
      "authorship_tag": "ABX9TyP3GJWA/LE/s2H1mrUgfAnk"
    },
    "kernelspec": {
      "name": "ir",
      "display_name": "R"
    },
    "language_info": {
      "name": "R"
    }
  },
  "cells": [
    {
      "cell_type": "code",
      "execution_count": 85,
      "metadata": {
        "colab": {
          "base_uri": "https://localhost:8080/"
        },
        "id": "Vf4ALFYN6wlX",
        "outputId": "ed1ce8c9-0cd7-419b-e815-9415be96d296"
      },
      "outputs": [
        {
          "output_type": "stream",
          "name": "stdout",
          "text": [
            "Enter your name: Kanishq\n",
            "Enter your age: 20\n",
            "[1] \"My name is Kanishq and I am 20 years old.\"\n",
            "[1] \"R version: R version 4.4.0 (2024-04-24)\"\n"
          ]
        }
      ],
      "source": [
        "get_user_info <- function() {\n",
        "  name <- readline(prompt=\"Enter your name: \")\n",
        "  age <- readline(prompt=\"Enter your age: \")\n",
        "  print(paste(\"My name is\", name, \"and I am\", age, \"years old.\"))\n",
        "  print(paste(\"R version:\", R.version.string))\n",
        "}\n",
        "get_user_info()"
      ]
    }
  ]
}