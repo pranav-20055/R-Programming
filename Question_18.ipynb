{
  "nbformat": 4,
  "nbformat_minor": 0,
  "metadata": {
    "colab": {
      "provenance": [],
      "authorship_tag": "ABX9TyM9lCSEBdCqrIi5tcm6Lu3t"
    },
    "kernelspec": {
      "name": "ir",
      "display_name": "R"
    },
    "language_info": {
      "name": "R"
    }
  },
  "cells": [
    {
      "cell_type": "code",
      "execution_count": 83,
      "metadata": {
        "colab": {
          "base_uri": "https://localhost:8080/"
        },
        "id": "Vf4ALFYN6wlX",
        "outputId": "ad459e8e-456a-4e4e-a124-ad78b422b0ce"
      },
      "outputs": [
        {
          "output_type": "stream",
          "name": "stdout",
          "text": [
            ", , 1\n",
            "\n",
            "     [,1] [,2] [,3]\n",
            "[1,]    1    4    7\n",
            "[2,]    2    5    8\n",
            "[3,]    3    6    9\n",
            "\n",
            ", , 2\n",
            "\n",
            "     [,1] [,2] [,3]\n",
            "[1,]   10    1    4\n",
            "[2,]   11    2    5\n",
            "[3,]   12    3    6\n",
            "\n"
          ]
        }
      ],
      "source": [
        "# Create two vectors\n",
        "vector1 <- c(1, 2, 3, 4, 5, 6)\n",
        "vector2 <- c(7, 8, 9, 10, 11, 12)\n",
        "\n",
        "# Create an array with three columns, three rows, and two \"tables\"\n",
        "arr <- array(c(vector1, vector2), dim = c(3, 3, 2))\n",
        "\n",
        "print(arr)"
      ]
    }
  ]
}