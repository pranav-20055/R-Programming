{
  "nbformat": 4,
  "nbformat_minor": 0,
  "metadata": {
    "colab": {
      "provenance": [],
      "authorship_tag": "ABX9TyOQxMEcoQD8Z60kf5xsjIL7"
    },
    "kernelspec": {
      "name": "ir",
      "display_name": "R"
    },
    "language_info": {
      "name": "R"
    }
  },
  "cells": [
    {
      "cell_type": "code",
      "execution_count": 14,
      "metadata": {
        "colab": {
          "base_uri": "https://localhost:8080/"
        },
        "id": "Vf4ALFYN6wlX",
        "outputId": "fc4bbdbb-20ca-43d3-e654-7ff26554622f"
      },
      "outputs": [
        {
          "output_type": "stream",
          "name": "stdout",
          "text": [
            "[1] \"The factors of 4 are:\"\n",
            "[1] 1\n",
            "[1] 2\n",
            "[1] 4\n",
            "[1] \"The factors of 7 are:\"\n",
            "[1] 1\n",
            "[1] 7\n",
            "[1] \"The factors of 12 are:\"\n",
            "[1] 1\n",
            "[1] 2\n",
            "[1] 3\n",
            "[1] 4\n",
            "[1] 6\n",
            "[1] 12\n"
          ]
        }
      ],
      "source": [
        "print_factors = function(n) {\n",
        "  print(paste(\"The factors of\",n,\"are:\"))\n",
        "  for(i in 1:n) {\n",
        "    if((n %% i) == 0) {\n",
        "      print(i)\n",
        "    }\n",
        "  }\n",
        "}\n",
        "print_factors(4)\n",
        "print_factors(7)\n",
        "print_factors(12)\n"
      ]
    }
  ]
}