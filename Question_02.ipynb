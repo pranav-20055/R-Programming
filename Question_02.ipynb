{
  "nbformat": 4,
  "nbformat_minor": 0,
  "metadata": {
    "colab": {
      "provenance": [],
      "authorship_tag": "ABX9TyO/IbgOlYiKjtRvMyzB1VND"
    },
    "kernelspec": {
      "name": "ir",
      "display_name": "R"
    },
    "language_info": {
      "name": "R"
    }
  },
  "cells": [
    {
      "cell_type": "code",
      "execution_count": 1,
      "metadata": {
        "colab": {
          "base_uri": "https://localhost:8080/"
        },
        "id": "Vf4ALFYN6wlX",
        "outputId": "615a9631-1284-4b0d-b1af-0904d6853572"
      },
      "outputs": [
        {
          "output_type": "stream",
          "name": "stdout",
          "text": [
            "[1] \"n1\"   \"n2\"   \"name\" \"nums\"\n",
            "[1] \"Details of the objects in memory:\"\n",
            "n1 :  num 10\n",
            "n2 :  num 0.5\n",
            "name :  chr \"R\"\n",
            "nums :  num [1:6] 10 20 30 40 50 60\n"
          ]
        }
      ],
      "source": [
        "name = \"R\";\n",
        "n1 =  10;\n",
        "n2 =  0.5\n",
        "nums = c(10, 20, 30, 40, 50, 60)\n",
        "print(ls())\n",
        "print(\"Details of the objects in memory:\")\n",
        "print(ls.str())\n"
      ]
    }
  ]
}