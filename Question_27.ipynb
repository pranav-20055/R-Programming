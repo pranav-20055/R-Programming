{
  "nbformat": 4,
  "nbformat_minor": 0,
  "metadata": {
    "colab": {
      "provenance": [],
      "authorship_tag": "ABX9TyPO+CKH7GKMy/ju/a5B2HJd"
    },
    "kernelspec": {
      "name": "ir",
      "display_name": "R"
    },
    "language_info": {
      "name": "R"
    }
  },
  "cells": [
    {
      "cell_type": "code",
      "execution_count": 41,
      "metadata": {
        "colab": {
          "base_uri": "https://localhost:8080/"
        },
        "id": "Vf4ALFYN6wlX",
        "outputId": "77444d8f-dbad-4f7b-9fbe-865906be9d60"
      },
      "outputs": [
        {
          "output_type": "stream",
          "name": "stdout",
          "text": [
            " [1] \"58\" \"59\" \"60\" \"61\" \"62\" \"63\" \"64\" \"65\" \"66\" \"67\" \"68\" \"69\" \"70\" \"71\" \"72\"\n"
          ]
        }
      ],
      "source": [
        "# Load the built-in dataset women\n",
        "data(women)\n",
        "\n",
        "# Create a factor for height\n",
        "height_factor <- factor(women$height)\n",
        "\n",
        "# Print the factor levels\n",
        "print(levels(height_factor))"
      ]
    }
  ]
}