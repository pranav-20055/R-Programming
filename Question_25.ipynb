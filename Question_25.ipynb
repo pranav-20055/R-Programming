{
  "nbformat": 4,
  "nbformat_minor": 0,
  "metadata": {
    "colab": {
      "provenance": [],
      "authorship_tag": "ABX9TyNS24sEtKvIxZoeKN9MoJ3w"
    },
    "kernelspec": {
      "name": "ir",
      "display_name": "R"
    },
    "language_info": {
      "name": "R"
    }
  },
  "cells": [
    {
      "cell_type": "code",
      "execution_count": 43,
      "metadata": {
        "colab": {
          "base_uri": "https://localhost:8080/"
        },
        "id": "Vf4ALFYN6wlX",
        "outputId": "f26f6f06-84a8-4365-e53e-bad3446af895"
      },
      "outputs": [
        {
          "output_type": "stream",
          "name": "stdout",
          "text": [
            "       name attempts\n",
            "3 Katherine        2\n",
            "5     Emily        2\n",
            "        name score attempts qualify country\n",
            "1  Anastasia  12.5        1     yes     USA\n",
            "2       Dima   9.0        3      no     USA\n",
            "3  Katherine  16.5        2     yes     USA\n",
            "4      James  12.0        3      no     USA\n",
            "5      Emily   9.0        2      no      UK\n",
            "6    Michael  20.0        3     yes     USA\n",
            "7    Matthew  14.5        1     yes     USA\n",
            "8      Laura  13.5        1      no   India\n",
            "9      Kevin   8.0        2      no     USA\n",
            "10     Jonas  19.0        1     yes     USA\n",
            "        name score attempts qualify country\n",
            "1  Anastasia  12.5        1     yes     USA\n",
            "2       Dima   9.0        3      no     USA\n",
            "3  Katherine  16.5        2     yes     USA\n",
            "4      James  12.0        3      no     USA\n",
            "5      Emily   9.0        2      no      UK\n",
            "6    Michael  20.0        3     yes     USA\n",
            "7    Matthew  14.5        1     yes     USA\n",
            "8      Laura  13.5        1      no   India\n",
            "9      Kevin   8.0        2      no     USA\n",
            "10     Jonas  19.0        1     yes     USA\n",
            "11    Robert  10.5        1     yes     USA\n",
            "12    Sophia   9.0        3      no      UK\n",
            "        name score attempts qualify country\n",
            "1  Anastasia  12.5        1     yes     USA\n",
            "2       Dima   9.0        3      no     USA\n",
            "5      Emily   9.0        2      no      UK\n",
            "4      James  12.0        3      no     USA\n",
            "10     Jonas  19.0        1     yes     USA\n",
            "3  Katherine  16.5        2     yes     USA\n",
            "9      Kevin   8.0        2      no     USA\n",
            "8      Laura  13.5        1      no   India\n",
            "7    Matthew  14.5        1     yes     USA\n",
            "6    Michael  20.0        3     yes     USA\n",
            "11    Robert  10.5        1     yes     USA\n",
            "12    Sophia   9.0        3      no      UK\n"
          ]
        }
      ],
      "source": [
        "#a)\n",
        "# Create the data frame\n",
        "exam_data <- data.frame(\n",
        "  name = c('Anastasia', 'Dima', 'Katherine', 'James', 'Emily', 'Michael', 'Matthew', 'Laura', 'Kevin', 'Jonas'),\n",
        "  score = c(12.5, 9, 16.5, 12, 9, 20, 14.5, 13.5, 8, 19),\n",
        "  attempts = c(1, 3, 2, 3, 2, 3, 1, 1, 2, 1),\n",
        "  qualify = c('yes', 'no', 'yes', 'no', 'no', 'yes', 'yes', 'no', 'no', 'yes')\n",
        ")\n",
        "\n",
        "# Extract 3rd and 5th rows with 1st and 3rd columns\n",
        "result <- exam_data[c(3, 5), c(1, 3)]\n",
        "\n",
        "print(result)\n",
        "\n",
        "#b)\n",
        "countries <- c(\"USA\", \"USA\", \"USA\", \"USA\", \"UK\", \"USA\", \"USA\", \"India\", \"USA\", \"USA\")\n",
        "exam_data$country <- countries\n",
        "\n",
        "print(exam_data)\n",
        "\n",
        "#c)\n",
        "new_exam_data <- data.frame(\n",
        "  name = c('Robert', 'Sophia'),\n",
        "  score = c(10.5, 9),\n",
        "  attempts = c(1, 3),\n",
        "  qualify = c('yes', 'no'),\n",
        "  country = c(\"USA\",\"UK\")\n",
        ")\n",
        "\n",
        "# Add new rows to the original data frame\n",
        "exam_data <- rbind(exam_data, new_exam_data)\n",
        "\n",
        "print(exam_data)\n",
        "\n",
        "#d)\n",
        "sorted_data <- exam_data[order(exam_data$name, exam_data$score), ]\n",
        "print(sorted_data)\n",
        "\n",
        "#e)\n",
        "file_name <- \"exam_data.csv\"\n",
        "write.csv(exam_data, file = file_name, row.names = FALSE)"
      ]
    }
  ]
}