{
  "nbformat": 4,
  "nbformat_minor": 0,
  "metadata": {
    "colab": {
      "provenance": [],
      "authorship_tag": "ABX9TyOkp5D2NPCRfuYG34GXvj73"
    },
    "kernelspec": {
      "name": "ir",
      "display_name": "R"
    },
    "language_info": {
      "name": "R"
    }
  },
  "cells": [
    {
      "cell_type": "code",
      "execution_count": 20,
      "metadata": {
        "colab": {
          "base_uri": "https://localhost:8080/"
        },
        "id": "Vf4ALFYN6wlX",
        "outputId": "3c6bbd91-6cd4-4157-befd-c9df2d58439f"
      },
      "outputs": [
        {
          "output_type": "stream",
          "name": "stdout",
          "text": [
            "[1] \"Content of the .csv file:\"\n",
            "  longitude latitude housing_median_age total_rooms total_bedrooms population\n",
            "1   -122.05    37.37                 27        3885            661       1537\n",
            "2   -118.30    34.26                 43        1510            310        809\n",
            "3   -117.81    33.78                 27        3589            507       1484\n",
            "4   -118.36    33.82                 28          67             15         49\n",
            "5   -119.67    36.33                 19        1241            244        850\n",
            "6   -119.56    36.51                 37        1018            213        663\n",
            "  households median_income median_house_value\n",
            "1        606        6.6085             344700\n",
            "2        277        3.5990             176500\n",
            "3        495        5.7934             270500\n",
            "4         11        6.1359             330000\n",
            "5        237        2.9375              81700\n",
            "6        204        1.6635              67000\n"
          ]
        }
      ],
      "source": [
        "movie_data = read.csv(file=\"/content/sample_data/california_housing_test.csv\", header=TRUE, sep=\",\")\n",
        "print(\"Content of the .csv file:\")\n",
        "print(head(movie_data))\n"
      ]
    }
  ]
}