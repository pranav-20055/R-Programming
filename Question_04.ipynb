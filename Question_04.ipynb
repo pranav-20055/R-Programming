{
  "nbformat": 4,
  "nbformat_minor": 0,
  "metadata": {
    "colab": {
      "provenance": [],
      "authorship_tag": "ABX9TyO6X5mNaeDZFxFFSu0a6NT9"
    },
    "kernelspec": {
      "name": "ir",
      "display_name": "R"
    },
    "language_info": {
      "name": "R"
    }
  },
  "cells": [
    {
      "cell_type": "code",
      "execution_count": 3,
      "metadata": {
        "colab": {
          "base_uri": "https://localhost:8080/"
        },
        "id": "Vf4ALFYN6wlX",
        "outputId": "b0ee909f-55f0-4699-9af3-959936837296"
      },
      "outputs": [
        {
          "output_type": "stream",
          "name": "stdout",
          "text": [
            "[1] \"Content of the vector:\"\n",
            "[1] \"10 random integer values between -50 and +50:\"\n",
            " [1]  45  37 -31  42 -44 -39 -32  -3  41 -49\n"
          ]
        }
      ],
      "source": [
        "v = sample(-50:50, 10, replace=TRUE)\n",
        "print(\"Content of the vector:\")\n",
        "print(\"10 random integer values between -50 and +50:\")\n",
        "print(v)\n"
      ]
    }
  ]
}