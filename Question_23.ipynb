{
  "nbformat": 4,
  "nbformat_minor": 0,
  "metadata": {
    "colab": {
      "provenance": [],
      "authorship_tag": "ABX9TyOVCXQD2UtSPrtJ/Kfx6njQ"
    },
    "kernelspec": {
      "name": "ir",
      "display_name": "R"
    },
    "language_info": {
      "name": "R"
    }
  },
  "cells": [
    {
      "cell_type": "code",
      "execution_count": 84,
      "metadata": {
        "colab": {
          "base_uri": "https://localhost:8080/"
        },
        "id": "Vf4ALFYN6wlX",
        "outputId": "21e656cf-21a2-4602-ce50-ce3bb1856681"
      },
      "outputs": [
        {
          "output_type": "stream",
          "name": "stdout",
          "text": [
            ", , 1\n",
            "\n",
            "     [,1] [,2] [,3] [,4]\n",
            "[1,]    1    4    7   10\n",
            "[2,]    2    5    8   11\n",
            "[3,]    3    6    9   12\n",
            "\n",
            ", , 2\n",
            "\n",
            "     [,1] [,2] [,3] [,4]\n",
            "[1,]   13   16   19   22\n",
            "[2,]   14   17   20   23\n",
            "[3,]   15   18   21   24\n",
            "\n"
          ]
        }
      ],
      "source": [
        "array1 = array(1:30, dim=c(3,4,2))\n",
        "print(array1)\n"
      ]
    }
  ]
}