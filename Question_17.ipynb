{
  "nbformat": 4,
  "nbformat_minor": 0,
  "metadata": {
    "colab": {
      "provenance": [],
      "authorship_tag": "ABX9TyOCbTjjiguU9i1bj0/4Q8lD"
    },
    "kernelspec": {
      "name": "ir",
      "display_name": "R"
    },
    "language_info": {
      "name": "R"
    }
  },
  "cells": [
    {
      "cell_type": "code",
      "execution_count": 55,
      "metadata": {
        "colab": {
          "base_uri": "https://localhost:8080/"
        },
        "id": "Vf4ALFYN6wlX",
        "outputId": "7f196023-73bb-4400-8e95-4e320aec4dc1"
      },
      "outputs": [
        {
          "output_type": "stream",
          "name": "stdout",
          "text": [
            ", , plane1\n",
            "\n",
            "     col1 col2\n",
            "row1    1    4\n",
            "row2    2    5\n",
            "row3    3    6\n",
            "\n",
            ", , plane2\n",
            "\n",
            "     col1 col2\n",
            "row1    7   10\n",
            "row2    8   11\n",
            "row3    9   12\n",
            "\n"
          ]
        }
      ],
      "source": [
        "# Create a vector of values\n",
        "values <- c(1, 2, 3, 4, 5, 6, 7, 8, 9, 10, 11, 12)\n",
        "\n",
        "# Create a vector of dimensions\n",
        "dimensions <- c(3, 2, 2)\n",
        "\n",
        "# Create an array with names for each dimension\n",
        "dim_names <- list(c(\"row1\", \"row2\", \"row3\"), c(\"col1\", \"col2\"), c(\"plane1\", \"plane2\"))\n",
        "arr <- array(values, dim = dimensions, dimnames = dim_names)\n",
        "\n",
        "print(arr)"
      ]
    }
  ]
}