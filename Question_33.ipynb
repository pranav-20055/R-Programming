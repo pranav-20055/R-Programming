{
  "nbformat": 4,
  "nbformat_minor": 0,
  "metadata": {
    "colab": {
      "provenance": [],
      "authorship_tag": "ABX9TyPSP70X5ajhrsO8H5i1T3L1"
    },
    "kernelspec": {
      "name": "ir",
      "display_name": "R"
    },
    "language_info": {
      "name": "R"
    }
  },
  "cells": [
    {
      "cell_type": "code",
      "execution_count": 19,
      "metadata": {
        "colab": {
          "base_uri": "https://localhost:8080/"
        },
        "id": "Vf4ALFYN6wlX",
        "outputId": "4ee9f2fa-8a60-4f2b-82c1-afe53f921d9a"
      },
      "outputs": [
        {
          "output_type": "stream",
          "name": "stdout",
          "text": [
            "     Ozone           Solar.R           Wind             Temp      \n",
            " Min.   :  1.00   Min.   :  7.0   Min.   : 1.700   Min.   :56.00  \n",
            " 1st Qu.: 18.00   1st Qu.:115.8   1st Qu.: 7.400   1st Qu.:72.00  \n",
            " Median : 31.50   Median :205.0   Median : 9.700   Median :79.00  \n",
            " Mean   : 42.13   Mean   :185.9   Mean   : 9.958   Mean   :77.88  \n",
            " 3rd Qu.: 63.25   3rd Qu.:258.8   3rd Qu.:11.500   3rd Qu.:85.00  \n",
            " Max.   :168.00   Max.   :334.0   Max.   :20.700   Max.   :97.00  \n",
            " NA's   :37       NA's   :7                                       \n",
            "     Month            Day      \n",
            " Min.   :5.000   Min.   : 1.0  \n",
            " 1st Qu.:6.000   1st Qu.: 8.0  \n",
            " Median :7.000   Median :16.0  \n",
            " Mean   :6.993   Mean   :15.8  \n",
            " 3rd Qu.:8.000   3rd Qu.:23.0  \n",
            " Max.   :9.000   Max.   :31.0  \n",
            "                               \n"
          ]
        },
        {
          "output_type": "stream",
          "name": "stderr",
          "text": [
            "No id variables; using all as measure variables\n",
            "\n"
          ]
        },
        {
          "output_type": "stream",
          "name": "stdout",
          "text": [
            "  variable value\n",
            "1    Ozone    41\n",
            "2    Ozone    36\n",
            "3    Ozone    12\n",
            "4    Ozone    18\n",
            "5    Ozone    NA\n",
            "6    Ozone    28\n",
            "  Month Day variable value\n",
            "1     5   1    Ozone    41\n",
            "2     5   2    Ozone    36\n",
            "3     5   3    Ozone    12\n",
            "4     5   4    Ozone    18\n",
            "5     5   5    Ozone    NA\n",
            "6     5   6    Ozone    28\n",
            "  Month Day Ozone Solar.R Wind Temp\n",
            "1     5   1    41     190  7.4   67\n",
            "2     5   2    36     118  8.0   72\n",
            "3     5   3    12     149 12.6   74\n",
            "4     5   4    18     313 11.5   62\n",
            "5     5   5    NA      NA 14.3   56\n",
            "6     5   6    28      NA 14.9   66\n",
            "  Month    Ozone  Solar.R      Wind     Temp  Day\n",
            "1     5 23.61538 181.2963 11.622581 65.54839 16.0\n",
            "2     6 29.44444 190.1667 10.266667 79.10000 15.5\n",
            "3     7 59.11538 216.4839  8.941935 83.90323 16.0\n",
            "4     8 59.96154 171.8571  8.793548 83.96774 16.0\n",
            "5     9 31.44828 167.4333 10.180000 76.90000 15.5\n"
          ]
        }
      ],
      "source": [
        "#1)\n",
        "# Load the airquality dataset\n",
        "data(airquality)\n",
        "\n",
        "# Get the summary statistics\n",
        "summary_stats <- summary(airquality)\n",
        "print(summary_stats)\n",
        "\n",
        "#2)\n",
        "library(reshape2)\n",
        "\n",
        "# Melt the data\n",
        "melted_data <- melt(airquality)\n",
        "print(head(melted_data))\n",
        "\n",
        "#3)\n",
        "melted_data <- melt(airquality, id.vars = c(\"Month\", \"Day\"))\n",
        "print(head(melted_data))\n",
        "\n",
        "#4)\n",
        "casted_data <- dcast(melted_data, Month + Day ~ variable)\n",
        "print(head(casted_data))\n",
        "\n",
        "#5)\n",
        "# Melt the data with month as ID variable\n",
        "melted_data <- melt(airquality, id.vars = \"Month\")\n",
        "\n",
        "# Cast the molten data and compute averages per month\n",
        "averages_per_month <- dcast(melted_data, Month ~ variable, mean, na.rm = TRUE)\n",
        "print(averages_per_month)"
      ]
    }
  ]
}