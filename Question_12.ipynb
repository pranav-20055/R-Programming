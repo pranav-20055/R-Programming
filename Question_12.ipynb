{
  "nbformat": 4,
  "nbformat_minor": 0,
  "metadata": {
    "colab": {
      "provenance": [],
      "authorship_tag": "ABX9TyPoWQIp8kXz89hbacjjEdXR"
    },
    "kernelspec": {
      "name": "ir",
      "display_name": "R"
    },
    "language_info": {
      "name": "R"
    }
  },
  "cells": [
    {
      "cell_type": "code",
      "execution_count": 1,
      "metadata": {
        "colab": {
          "base_uri": "https://localhost:8080/"
        },
        "id": "Vf4ALFYN6wlX",
        "outputId": "45bbefff-c152-4111-eb5e-6237f1027b57"
      },
      "outputs": [
        {
          "output_type": "stream",
          "name": "stdout",
          "text": [
            "[1] \"Content of the said matrix:\"\n",
            "     a b c\n",
            "[1,] 1 4 7\n",
            "[2,] 2 5 8\n",
            "[3,] 3 6 9\n"
          ]
        }
      ],
      "source": [
        "a<-c(1,2,3)\n",
        "b<-c(4,5,6)\n",
        "c<-c(7,8,9)\n",
        "m<-cbind(a,b,c)\n",
        "print(\"Content of the said matrix:\")\n",
        "print(m)\n"
      ]
    }
  ]
}