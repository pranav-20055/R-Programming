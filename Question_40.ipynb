{
  "nbformat": 4,
  "nbformat_minor": 0,
  "metadata": {
    "colab": {
      "provenance": [],
      "authorship_tag": "ABX9TyPeZwfd6mq8WZOc4dUPNaqO"
    },
    "kernelspec": {
      "name": "ir",
      "display_name": "R"
    },
    "language_info": {
      "name": "R"
    }
  },
  "cells": [
    {
      "cell_type": "code",
      "execution_count": 1,
      "metadata": {
        "colab": {
          "base_uri": "https://localhost:8080/"
        },
        "id": "Vf4ALFYN6wlX",
        "outputId": "75543f6d-bd0a-4411-be28-c44c68bf0c52"
      },
      "outputs": [
        {
          "output_type": "stream",
          "name": "stdout",
          "text": [
            "   Month Spends  Sales\n",
            "1      1   1000   9914\n",
            "2      2   4000  40487\n",
            "3      3   5000  54324\n",
            "4      4   4500  50044\n",
            "5      5   3000  34719\n",
            "6      6   4000  42551\n",
            "7      7   9000  94871\n",
            "8      8  11000 118914\n",
            "9      9  15000 158484\n",
            "10    10  12000 131348\n",
            "11    11   7000  78504\n",
            "12    12   3000  36284\n",
            "\n",
            "Call:\n",
            "lm(formula = Sales ~ Spends, data = data)\n",
            "\n",
            "Residuals:\n",
            "   Min     1Q Median     3Q    Max \n",
            " -3385  -2097    258   1726   3034 \n",
            "\n",
            "Coefficients:\n",
            "             Estimate Std. Error t value Pr(>|t|)    \n",
            "(Intercept) 1383.4714  1255.2404   1.102    0.296    \n",
            "Spends        10.6222     0.1625  65.378 1.71e-14 ***\n",
            "---\n",
            "Signif. codes:  0 ‘***’ 0.001 ‘**’ 0.01 ‘*’ 0.05 ‘.’ 0.1 ‘ ’ 1\n",
            "\n",
            "Residual standard error: 2313 on 10 degrees of freedom\n",
            "Multiple R-squared:  0.9977,\tAdjusted R-squared:  0.9974 \n",
            "F-statistic:  4274 on 1 and 10 DF,  p-value: 1.707e-14\n",
            "\n",
            "       1 \n",
            "144783.1 \n"
          ]
        }
      ],
      "source": [
        "#1)\n",
        "# Create the data frame\n",
        "data <- data.frame(\n",
        "  Month = 1:12,\n",
        "  Spends = c(1000, 4000, 5000, 4500, 3000, 4000, 9000, 11000, 15000, 12000, 7000, 3000),\n",
        "  Sales = c(9914, 40487, 54324, 50044, 34719, 42551, 94871, 118914, 158484, 131348, 78504, 36284)\n",
        ")\n",
        "\n",
        "# Print the data frame\n",
        "print(data)\n",
        "\n",
        "#2)\n",
        "# Create a regression model\n",
        "regression_model <- lm(Sales ~ Spends, data = data)\n",
        "\n",
        "# Print the model summary\n",
        "print(summary(regression_model))\n",
        "\n",
        "#3)\n",
        "# Predict Sales for Spend = 13500\n",
        "new_data <- data.frame(Spends = 13500)\n",
        "predicted_sales <- predict(regression_model, newdata = new_data)\n",
        "\n",
        "# Print the predicted Sales\n",
        "print(predicted_sales)"
      ]
    }
  ]
}