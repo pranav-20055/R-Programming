{
  "nbformat": 4,
  "nbformat_minor": 0,
  "metadata": {
    "colab": {
      "provenance": [],
      "authorship_tag": "ABX9TyNX6SCq/EnUckYAQrxBC6ZH"
    },
    "kernelspec": {
      "name": "ir",
      "display_name": "R"
    },
    "language_info": {
      "name": "R"
    }
  },
  "cells": [
    {
      "cell_type": "code",
      "execution_count": 14,
      "metadata": {
        "colab": {
          "base_uri": "https://localhost:8080/"
        },
        "id": "Vf4ALFYN6wlX",
        "outputId": "8193de08-bf96-402e-d9e9-6a1dc1cf2033"
      },
      "outputs": [
        {
          "output_type": "stream",
          "name": "stdout",
          "text": [
            "[1] \"List of random numbers in normal distribution:\"\n",
            "  [1]   14  123   33   -2  -58   72  159   49   38  117   85   41  -33   18  142\n",
            " [16]  -41   24   11  -98 -118   66   18  121  116   92   -8   45   -5  139   74\n",
            " [31]   48   81   87    5   27   44  175  108   92   -4   87   52  -25   87   47\n",
            " [46]   32  139    9    7   49  -78  127   61  117    6   91  106   79  102  -46\n",
            " [61]   -7   89   18  -37   91   25   61   36  129  163   34  104  -74   73  112\n",
            " [76]  120  173   71   91  -60   68   -2   66   23   75  216  147   94   74   68\n",
            " [91]  207  -32   24   84  106   28  -14   -3  114   48\n",
            "[1] \"Count occurrences of each value:\"\n",
            "n\n",
            "-118  -98  -78  -74  -60  -58  -46  -41  -37  -33  -32  -25  -14   -8   -7   -5 \n",
            "   1    1    1    1    1    1    1    1    1    1    1    1    1    1    1    1 \n",
            "  -4   -3   -2    5    6    7    9   11   14   18   23   24   25   27   28   32 \n",
            "   1    1    2    1    1    1    1    1    1    3    1    2    1    1    1    1 \n",
            "  33   34   36   38   41   44   45   47   48   49   52   61   66   68   71   72 \n",
            "   1    1    1    1    1    1    1    1    2    2    1    2    2    2    1    1 \n",
            "  73   74   75   79   81   84   85   87   89   91   92   94  102  104  106  108 \n",
            "   1    2    1    1    1    1    1    3    1    3    2    1    1    1    2    1 \n",
            " 112  114  116  117  120  121  123  127  129  139  142  147  159  163  173  175 \n",
            "   1    1    1    2    1    1    1    1    1    2    1    1    1    1    1    1 \n",
            " 207  216 \n",
            "   1    1 \n"
          ]
        }
      ],
      "source": [
        "n = floor(rnorm(100, 50, 60))\n",
        "print('List of random numbers in normal distribution:')\n",
        "print(n)\n",
        "t = table(n)\n",
        "print(\"Count occurrences of each value:\")\n",
        "print(t)\n"
      ]
    }
  ]
}