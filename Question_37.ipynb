{
  "nbformat": 4,
  "nbformat_minor": 0,
  "metadata": {
    "colab": {
      "provenance": [],
      "authorship_tag": "ABX9TyOhBGWKDLqKmdWRTzwfq9gM"
    },
    "kernelspec": {
      "name": "ir",
      "display_name": "R"
    },
    "language_info": {
      "name": "R"
    }
  },
  "cells": [
    {
      "cell_type": "code",
      "execution_count": 8,
      "metadata": {
        "colab": {
          "base_uri": "https://localhost:8080/"
        },
        "id": "Vf4ALFYN6wlX",
        "outputId": "bad50efc-111b-4cc2-d318-14b44bdfb58c"
      },
      "outputs": [
        {
          "output_type": "stream",
          "name": "stdout",
          "text": [
            "\n",
            "Call:\n",
            "lm(formula = weight ~ Time + Diet, data = ChickWeight)\n",
            "\n",
            "Residuals:\n",
            "     Min       1Q   Median       3Q      Max \n",
            "-136.851  -17.151   -2.595   15.033  141.816 \n",
            "\n",
            "Coefficients:\n",
            "            Estimate Std. Error t value Pr(>|t|)    \n",
            "(Intercept)  10.9244     3.3607   3.251  0.00122 ** \n",
            "Time          8.7505     0.2218  39.451  < 2e-16 ***\n",
            "Diet2        16.1661     4.0858   3.957 8.56e-05 ***\n",
            "Diet3        36.4994     4.0858   8.933  < 2e-16 ***\n",
            "Diet4        30.2335     4.1075   7.361 6.39e-13 ***\n",
            "---\n",
            "Signif. codes:  0 ‘***’ 0.001 ‘**’ 0.01 ‘*’ 0.05 ‘.’ 0.1 ‘ ’ 1\n",
            "\n",
            "Residual standard error: 35.99 on 573 degrees of freedom\n",
            "Multiple R-squared:  0.7453,\tAdjusted R-squared:  0.7435 \n",
            "F-statistic: 419.2 on 4 and 573 DF,  p-value: < 2.2e-16\n",
            "\n",
            "       1 \n",
            "98.42931 \n",
            "[1] 510.3269\n"
          ]
        }
      ],
      "source": [
        "#1)\n",
        "# Load the ChickWeight dataset\n",
        "data(ChickWeight)\n",
        "\n",
        "# Create a multi-regression model with Time and Diet as predictors\n",
        "multi_reg_model <- lm(weight ~ Time + Diet, data = ChickWeight)\n",
        "print(summary(multi_reg_model))\n",
        "\n",
        "#2)\n",
        "# Create a new data frame with Time = 10 and Diet = 1\n",
        "new_data <- data.frame(Time = 10, Diet = as.factor(1)) # Convert Diet to a factor\n",
        "\n",
        "# Predict the weight\n",
        "predicted_weight <- predict(multi_reg_model, newdata = new_data)\n",
        "print(predicted_weight)\n",
        "\n",
        "#3)\n",
        "# Find the error in the model\n",
        "error <- mean((ChickWeight$weight[ChickWeight$Time == 10 & ChickWeight$Diet == 1] - predicted_weight)^2)\n",
        "print(error)"
      ]
    },
    {
      "cell_type": "code",
      "source": [],
      "metadata": {
        "id": "rfiNCIjwEQWt"
      },
      "execution_count": null,
      "outputs": []
    }
  ]
}